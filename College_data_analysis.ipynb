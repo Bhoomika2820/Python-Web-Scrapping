{
 "cells": [
  {
   "cell_type": "code",
   "execution_count": 1,
   "metadata": {},
   "outputs": [],
   "source": [
    "import pandas as pd\n",
    "from matplotlib import pyplot as plt"
   ]
  },
  {
   "cell_type": "code",
   "execution_count": 2,
   "metadata": {
    "scrolled": true
   },
   "outputs": [
    {
     "name": "stdout",
     "output_type": "stream",
     "text": [
      "                                           COLLEGE_NAME  \\\n",
      "0     A M Reddy Memorial college of Engineering & Te...   \n",
      "1          Vignan's Institute of Information Technology   \n",
      "2                Jogaiah Institute of Tech. and Science   \n",
      "3                      Kshatriya College of Engineering   \n",
      "4         Vignan Lara Institute of Technology & Science   \n",
      "...                                                 ...   \n",
      "1717        Govt College of Engg and Textile Technology   \n",
      "1718    OmDayal College of Engineering And Architecture   \n",
      "1719       Government College of Technology West Bengal   \n",
      "1720                         Seacom Engineering College   \n",
      "1721       Abacus Institute of Engineering & Management   \n",
      "\n",
      "                                                ADDRESS       DISTRICT  \\\n",
      "0     Mastan Reddy Nagar Petlurivaripalem Narasaraop...         GUNTUR   \n",
      "1     Vadlapudi Gajuwaka Pincode - 530046 Visakhapat...  VISAKHAPATNAM   \n",
      "2     Kalagampudi Village Eelamanchili West Godavari...  WEST GODAVARI   \n",
      "3     Nh-16; Chepur Village Armoor Pincode - 503224 ...      NIZAMABAD   \n",
      "4     Vadlamudi Village Guntur Guntur - 522213 Guntu...         GUNTUR   \n",
      "...                                                 ...            ...   \n",
      "1717  4; Cantonment Road; P.o.- Berhampore Pincode -...    MURSHIDABAD   \n",
      "1718  Plot No.38(p); 38(a); 39(p) & 39(a) Uluberia I...         HOWRAH   \n",
      "1719  Kalyani University Campus Nadia Nadia - 741235...          NADIA   \n",
      "1720  Jl No-2 Jaladhulagori Sankrail;howrah Howrah (...         HOWRAH   \n",
      "1721  Bandel - Mogra Region I Mogra Natungram Hooghl...        HOOGHLY   \n",
      "\n",
      "               STATE                      OFFICE_NUMBER  \\\n",
      "0     Andhra Pradesh          08647 247190/ 98664 14252   \n",
      "1     Andhra Pradesh       0891 - 27 55 222/333/444/555   \n",
      "2     Andhra Pradesh         08814-283799/283755/283700   \n",
      "3     Andhra Pradesh                            -221871   \n",
      "4     Andhra Pradesh                  0863 -2118310/ 11   \n",
      "...              ...                                ...   \n",
      "1717     West Bengal                03482-252809/250142   \n",
      "1718     West Bengal               033 2661 3366 / 3179   \n",
      "1719     West Bengal                03482-252809/250142   \n",
      "1720     West Bengal                 033-2679 0482 / 83   \n",
      "1721     West Bengal  03213 - 2222660 / 222604 / 222603   \n",
      "\n",
      "                                                  EMAIl  \\\n",
      "0                      principal@amreddyengineering.com   \n",
      "1                                   vignaniit@yahoo.com   \n",
      "2                                  info@jitspalakol.org   \n",
      "3                                   kcea_engg@yahoo.com   \n",
      "4                                  vignanlara@gmail.com   \n",
      "...                                                 ...   \n",
      "1717                                 info@gcettb.org.in   \n",
      "1718                                   contact@oders.in   \n",
      "1719                                 info@gcettb.org.in   \n",
      "1720  principal@seacomengineering.org registrar@seac...   \n",
      "1721                      abacus.institute@jisgroup.org   \n",
      "\n",
      "                    WEBSITE_LINK  \n",
      "0     www.amreddyengineering.com  \n",
      "1      http://www.vignaniit.com/  \n",
      "2     http://www.jitspalakol.org  \n",
      "3                 www.kcea.ac.in  \n",
      "4      http://www.vignanlara.org  \n",
      "...                          ...  \n",
      "1717           www.gcettb.org.in  \n",
      "1718         http://www.oders.in  \n",
      "1719           www.gcettb.org.in  \n",
      "1720  www.seacomengineering .org  \n",
      "1721     www.abacusinstitute.org  \n",
      "\n",
      "[1722 rows x 7 columns]\n"
     ]
    }
   ],
   "source": [
    "df = pd.read_csv (r'combined_colleges_drop.csv')\n",
    "print (df)"
   ]
  },
  {
   "cell_type": "code",
   "execution_count": 3,
   "metadata": {},
   "outputs": [
    {
     "name": "stdout",
     "output_type": "stream",
     "text": [
      "<class 'pandas.core.frame.DataFrame'>\n",
      "RangeIndex: 1722 entries, 0 to 1721\n",
      "Data columns (total 7 columns):\n",
      " #   Column         Non-Null Count  Dtype \n",
      "---  ------         --------------  ----- \n",
      " 0   COLLEGE_NAME   1722 non-null   object\n",
      " 1   ADDRESS        1722 non-null   object\n",
      " 2   DISTRICT       1722 non-null   object\n",
      " 3   STATE          1722 non-null   object\n",
      " 4   OFFICE_NUMBER  1722 non-null   object\n",
      " 5   EMAIl          1722 non-null   object\n",
      " 6   WEBSITE_LINK   1722 non-null   object\n",
      "dtypes: object(7)\n",
      "memory usage: 94.3+ KB\n"
     ]
    }
   ],
   "source": [
    "df.info()\n"
   ]
  },
  {
   "cell_type": "code",
   "execution_count": 4,
   "metadata": {},
   "outputs": [
    {
     "name": "stdout",
     "output_type": "stream",
     "text": [
      "STATE\n",
      "Andhra Pradesh       229\n",
      "Arunachal Pradesh      1\n",
      "Assam                  4\n",
      "Bihar                 10\n",
      "Chandigarh             4\n",
      "Chhattisgarh          23\n",
      "Delhi                 16\n",
      "Goa                    3\n",
      "Gujarat               41\n",
      "Haryana               48\n",
      "Himachal Pradesh       1\n",
      "Jammu and Kashmir      4\n",
      "Jharkhand              4\n",
      "Karnataka            116\n",
      "Kerala                80\n",
      "Madhya Pradesh        84\n",
      "Maharashtra          316\n",
      "Orissa                42\n",
      "Pondicherry            9\n",
      "Punjab                40\n",
      "Rajasthan             45\n",
      "Tamil Nadu           442\n",
      "Tripura                2\n",
      "Uttar Pradesh        100\n",
      "Uttaranchal           14\n",
      "West Bengal           44\n",
      "Name: COLLEGE_NAME, dtype: int64\n"
     ]
    }
   ],
   "source": [
    "k=df.groupby(by='STATE').agg('count')\n",
    "print(k[\"COLLEGE_NAME\"])"
   ]
  },
  {
   "cell_type": "code",
   "execution_count": 5,
   "metadata": {},
   "outputs": [
    {
     "data": {
      "text/plain": [
       "<matplotlib.axes._subplots.AxesSubplot at 0x262ed2b43c8>"
      ]
     },
     "execution_count": 5,
     "metadata": {},
     "output_type": "execute_result"
    },
    {
     "data": {
      "image/png": "[encoded data removed]",
      "text/plain": [
       "<Figure size 432x288 with 1 Axes>"
      ]
     },
     "metadata": {
      "needs_background": "light"
     },
     "output_type": "display_data"
    }
   ],
   "source": [
    "k[\"COLLEGE_NAME\"].plot(kind ='bar')"
   ]
  },
  {
   "cell_type": "code",
   "execution_count": 18,
   "metadata": {},
   "outputs": [
    {
     "name": "stdout",
     "output_type": "stream",
     "text": [
      "STATE\n",
      "Andhra Pradesh       23\n",
      "Arunachal Pradesh     1\n",
      "Assam                 2\n",
      "Bihar                 5\n",
      "Chandigarh            1\n",
      "Chhattisgarh          6\n",
      "Delhi                 5\n",
      "Goa                   2\n",
      "Gujarat              15\n",
      "Haryana              18\n",
      "Himachal Pradesh      1\n",
      "Jammu and Kashmir     2\n",
      "Jharkhand             4\n",
      "Karnataka            23\n",
      "Kerala               14\n",
      "Madhya Pradesh       16\n",
      "Maharashtra          31\n",
      "Orissa               17\n",
      "Pondicherry           3\n",
      "Punjab               17\n",
      "Rajasthan            11\n",
      "Tamil Nadu           32\n",
      "Tripura               1\n",
      "Uttar Pradesh        23\n",
      "Uttaranchal           4\n",
      "West Bengal          14\n",
      "Name: DISTRICT, dtype: int64\n"
     ]
    },
    {
     "data": {
      "text/plain": [
       "<matplotlib.axes._subplots.AxesSubplot at 0x262efae8348>"
      ]
     },
     "execution_count": 18,
     "metadata": {},
     "output_type": "execute_result"
    },
    {
     "data": {
      "image/png": "[encoded data removed]",
      "text/plain": [
       "<Figure size 432x288 with 1 Axes>"
      ]
     },
     "metadata": {
      "needs_background": "light"
     },
     "output_type": "display_data"
    }
   ],
   "source": [
    "unique = df.groupby('STATE')['DISTRICT'].nunique()\n",
    "print(unique)\n",
    "unique.plot.bar(x='DISTRICT', y='STATE')\n"
   ]
  },
  {
   "cell_type": "code",
   "execution_count": null,
   "metadata": {},
   "outputs": [],
   "source": []
  }
 ],
 "metadata": {
  "kernelspec": {
   "display_name": "Python 3",
   "language": "python",
   "name": "python3"
  },
  "language_info": {
   "codemirror_mode": {
    "name": "ipython",
    "version": 3
   },
   "file_extension": ".py",
   "mimetype": "text/x-python",
   "name": "python",
   "nbconvert_exporter": "python",
   "pygments_lexer": "ipython3",
   "version": "3.7.6"
  }
 },
 "nbformat": 4,
 "nbformat_minor": 4
}
